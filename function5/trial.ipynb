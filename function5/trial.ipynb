{
 "cells": [
  {
   "cell_type": "code",
   "execution_count": 40,
   "metadata": {},
   "outputs": [
    {
     "data": {
      "text/plain": [
       "[1, 2, 3, 4, 5, 6, 7, 8, 9, 10]"
      ]
     },
     "execution_count": 40,
     "metadata": {},
     "output_type": "execute_result"
    }
   ],
   "source": [
    "def coba_if(n):\n",
    "    list_data = []\n",
    "    for i in range(n):\n",
    "        data = i+1\n",
    "        list_data.append(data)\n",
    "    return list_data\n",
    "\n",
    "list_data = coba_if(10)\n",
    "list_data"
   ]
  },
  {
   "cell_type": "code",
   "execution_count": 41,
   "metadata": {},
   "outputs": [
    {
     "name": "stdout",
     "output_type": "stream",
     "text": [
      "[['milo', 1, 20000], [...]]\n"
     ]
    }
   ],
   "source": [
    "#salah\n",
    "def add_item(nama, jumlah, harga):\n",
    "    add_to_cart = []\n",
    "    add_to_cart.append([nama, jumlah, harga])\n",
    "    return add_to_cart\n",
    "\n",
    "cart = add_item(\"milo\", 1, 20_000)\n",
    "cart.append(cart)\n",
    "\n",
    "add_item(\"milo\", 1, 20_000)\n",
    "print(cart)"
   ]
  },
  {
   "cell_type": "code",
   "execution_count": 42,
   "metadata": {},
   "outputs": [],
   "source": [
    "list_belanjaan = []\n",
    "def add_jumlah(jumlah_jenis_belanjaan):\n",
    "    #list_belanjaan = []\n",
    "    \n",
    "    for i in range(jumlah_jenis_belanjaan):        \n",
    "        nama_item = input(\"Masukkan produk yang ingin dibeli : \")\n",
    "        jumlah_item = int(input(\"Masukkan jumlah produk yang ingin dibeli : \"))\n",
    "        harga_per_item = float(input(\"Masukkan harga per item produk yang ingin dibeli : Rp \"))\n",
    "\n",
    "        add_to_cart = [nama_item, jumlah_item, harga_per_item]\n",
    "        list_belanjaan.append(add_to_cart)\n",
    "    return list_belanjaan"
   ]
  },
  {
   "cell_type": "code",
   "execution_count": 43,
   "metadata": {},
   "outputs": [
    {
     "ename": "ValueError",
     "evalue": "invalid literal for int() with base 10: ''",
     "output_type": "error",
     "traceback": [
      "\u001b[1;31m---------------------------------------------------------------------------\u001b[0m",
      "\u001b[1;31mValueError\u001b[0m                                Traceback (most recent call last)",
      "Cell \u001b[1;32mIn[43], line 1\u001b[0m\n\u001b[1;32m----> 1\u001b[0m add_jumlah(\u001b[39m2\u001b[39;49m)\n",
      "Cell \u001b[1;32mIn[42], line 7\u001b[0m, in \u001b[0;36madd_jumlah\u001b[1;34m(jumlah_jenis_belanjaan)\u001b[0m\n\u001b[0;32m      5\u001b[0m \u001b[39mfor\u001b[39;00m i \u001b[39min\u001b[39;00m \u001b[39mrange\u001b[39m(jumlah_jenis_belanjaan):        \n\u001b[0;32m      6\u001b[0m     nama_item \u001b[39m=\u001b[39m \u001b[39minput\u001b[39m(\u001b[39m\"\u001b[39m\u001b[39mMasukkan produk yang ingin dibeli : \u001b[39m\u001b[39m\"\u001b[39m)\n\u001b[1;32m----> 7\u001b[0m     jumlah_item \u001b[39m=\u001b[39m \u001b[39mint\u001b[39;49m(\u001b[39minput\u001b[39;49m(\u001b[39m\"\u001b[39;49m\u001b[39mMasukkan jumlah produk yang ingin dibeli : \u001b[39;49m\u001b[39m\"\u001b[39;49m))\n\u001b[0;32m      8\u001b[0m     harga_per_item \u001b[39m=\u001b[39m \u001b[39mfloat\u001b[39m(\u001b[39minput\u001b[39m(\u001b[39m\"\u001b[39m\u001b[39mMasukkan harga per item produk yang ingin dibeli : Rp \u001b[39m\u001b[39m\"\u001b[39m))\n\u001b[0;32m     10\u001b[0m     add_to_cart \u001b[39m=\u001b[39m [nama_item, jumlah_item, harga_per_item]\n",
      "\u001b[1;31mValueError\u001b[0m: invalid literal for int() with base 10: ''"
     ]
    }
   ],
   "source": [
    "add_jumlah(2)"
   ]
  },
  {
   "cell_type": "code",
   "execution_count": null,
   "metadata": {},
   "outputs": [
    {
     "data": {
      "text/plain": [
       "[['mie', 10, 35000.0], ['sabun', 1, 17000.0], ['sunlight', 1, 18000.0]]"
      ]
     },
     "execution_count": 29,
     "metadata": {},
     "output_type": "execute_result"
    }
   ],
   "source": [
    "add_jumlah(1)"
   ]
  },
  {
   "cell_type": "code",
   "execution_count": null,
   "metadata": {},
   "outputs": [
    {
     "data": {
      "text/html": [
       "<div>\n",
       "<style scoped>\n",
       "    .dataframe tbody tr th:only-of-type {\n",
       "        vertical-align: middle;\n",
       "    }\n",
       "\n",
       "    .dataframe tbody tr th {\n",
       "        vertical-align: top;\n",
       "    }\n",
       "\n",
       "    .dataframe thead th {\n",
       "        text-align: right;\n",
       "    }\n",
       "</style>\n",
       "<table border=\"1\" class=\"dataframe\">\n",
       "  <thead>\n",
       "    <tr style=\"text-align: right;\">\n",
       "      <th></th>\n",
       "      <th>nama_item</th>\n",
       "      <th>jumlah_item</th>\n",
       "      <th>harga_per_item</th>\n",
       "    </tr>\n",
       "  </thead>\n",
       "  <tbody>\n",
       "    <tr>\n",
       "      <th>1</th>\n",
       "      <td>mie</td>\n",
       "      <td>10</td>\n",
       "      <td>35000.0</td>\n",
       "    </tr>\n",
       "    <tr>\n",
       "      <th>2</th>\n",
       "      <td>sabun</td>\n",
       "      <td>1</td>\n",
       "      <td>17000.0</td>\n",
       "    </tr>\n",
       "    <tr>\n",
       "      <th>3</th>\n",
       "      <td>sunlight</td>\n",
       "      <td>1</td>\n",
       "      <td>18000.0</td>\n",
       "    </tr>\n",
       "  </tbody>\n",
       "</table>\n",
       "</div>"
      ],
      "text/plain": [
       "  nama_item  jumlah_item  harga_per_item\n",
       "1       mie           10         35000.0\n",
       "2     sabun            1         17000.0\n",
       "3  sunlight            1         18000.0"
      ]
     },
     "metadata": {},
     "output_type": "display_data"
    }
   ],
   "source": [
    "import pandas as pd\n",
    "import numpy as np\n",
    "\n",
    "df = pd.DataFrame(list_belanjaan, columns = ['nama_item', 'jumlah_item', 'harga_per_item'])\n",
    "df.index = np.arange(1, len(df) + 1)\n",
    "display(df)"
   ]
  },
  {
   "cell_type": "code",
   "execution_count": null,
   "metadata": {},
   "outputs": [
    {
     "data": {
      "text/html": [
       "<div>\n",
       "<style scoped>\n",
       "    .dataframe tbody tr th:only-of-type {\n",
       "        vertical-align: middle;\n",
       "    }\n",
       "\n",
       "    .dataframe tbody tr th {\n",
       "        vertical-align: top;\n",
       "    }\n",
       "\n",
       "    .dataframe thead th {\n",
       "        text-align: right;\n",
       "    }\n",
       "</style>\n",
       "<table border=\"1\" class=\"dataframe\">\n",
       "  <thead>\n",
       "    <tr style=\"text-align: right;\">\n",
       "      <th></th>\n",
       "      <th>nama_item</th>\n",
       "      <th>jumlah_item</th>\n",
       "      <th>harga_per_item</th>\n",
       "    </tr>\n",
       "  </thead>\n",
       "  <tbody>\n",
       "    <tr>\n",
       "      <th>1</th>\n",
       "      <td>mie</td>\n",
       "      <td>10</td>\n",
       "      <td>35000.0</td>\n",
       "    </tr>\n",
       "    <tr>\n",
       "      <th>2</th>\n",
       "      <td>sabun</td>\n",
       "      <td>1</td>\n",
       "      <td>17000.0</td>\n",
       "    </tr>\n",
       "    <tr>\n",
       "      <th>3</th>\n",
       "      <td>sunlight</td>\n",
       "      <td>1</td>\n",
       "      <td>18000.0</td>\n",
       "    </tr>\n",
       "  </tbody>\n",
       "</table>\n",
       "</div>"
      ],
      "text/plain": [
       "  nama_item  jumlah_item  harga_per_item\n",
       "1       mie           10         35000.0\n",
       "2     sabun            1         17000.0\n",
       "3  sunlight            1         18000.0"
      ]
     },
     "metadata": {},
     "output_type": "display_data"
    }
   ],
   "source": [
    "display(df)"
   ]
  },
  {
   "cell_type": "code",
   "execution_count": null,
   "metadata": {},
   "outputs": [
    {
     "data": {
      "text/html": [
       "<div>\n",
       "<style scoped>\n",
       "    .dataframe tbody tr th:only-of-type {\n",
       "        vertical-align: middle;\n",
       "    }\n",
       "\n",
       "    .dataframe tbody tr th {\n",
       "        vertical-align: top;\n",
       "    }\n",
       "\n",
       "    .dataframe thead th {\n",
       "        text-align: right;\n",
       "    }\n",
       "</style>\n",
       "<table border=\"1\" class=\"dataframe\">\n",
       "  <thead>\n",
       "    <tr style=\"text-align: right;\">\n",
       "      <th></th>\n",
       "      <th>nama_item</th>\n",
       "      <th>jumlah_item</th>\n",
       "      <th>harga_per_item</th>\n",
       "      <th>total_belanja</th>\n",
       "    </tr>\n",
       "  </thead>\n",
       "  <tbody>\n",
       "    <tr>\n",
       "      <th>1</th>\n",
       "      <td>mie</td>\n",
       "      <td>10</td>\n",
       "      <td>35000.0</td>\n",
       "      <td>350000.0</td>\n",
       "    </tr>\n",
       "    <tr>\n",
       "      <th>2</th>\n",
       "      <td>sabun</td>\n",
       "      <td>1</td>\n",
       "      <td>17000.0</td>\n",
       "      <td>17000.0</td>\n",
       "    </tr>\n",
       "    <tr>\n",
       "      <th>3</th>\n",
       "      <td>sunlight</td>\n",
       "      <td>1</td>\n",
       "      <td>18000.0</td>\n",
       "      <td>18000.0</td>\n",
       "    </tr>\n",
       "  </tbody>\n",
       "</table>\n",
       "</div>"
      ],
      "text/plain": [
       "  nama_item  jumlah_item  harga_per_item  total_belanja\n",
       "1       mie           10         35000.0       350000.0\n",
       "2     sabun            1         17000.0        17000.0\n",
       "3  sunlight            1         18000.0        18000.0"
      ]
     },
     "metadata": {},
     "output_type": "display_data"
    }
   ],
   "source": [
    "df['total_belanja'] = df['jumlah_item'] * df['harga_per_item']\n",
    "display(df)"
   ]
  },
  {
   "cell_type": "code",
   "execution_count": null,
   "metadata": {},
   "outputs": [
    {
     "data": {
      "text/plain": [
       "385000.0"
      ]
     },
     "execution_count": 37,
     "metadata": {},
     "output_type": "execute_result"
    }
   ],
   "source": [
    "np.sum(df['total_belanja'])"
   ]
  },
  {
   "cell_type": "code",
   "execution_count": null,
   "metadata": {},
   "outputs": [
    {
     "data": {
      "text/html": [
       "<div>\n",
       "<style scoped>\n",
       "    .dataframe tbody tr th:only-of-type {\n",
       "        vertical-align: middle;\n",
       "    }\n",
       "\n",
       "    .dataframe tbody tr th {\n",
       "        vertical-align: top;\n",
       "    }\n",
       "\n",
       "    .dataframe thead th {\n",
       "        text-align: right;\n",
       "    }\n",
       "</style>\n",
       "<table border=\"1\" class=\"dataframe\">\n",
       "  <thead>\n",
       "    <tr style=\"text-align: right;\">\n",
       "      <th></th>\n",
       "      <th>nama_item</th>\n",
       "      <th>jumlah_item</th>\n",
       "      <th>harga_per_item</th>\n",
       "      <th>total_belanja</th>\n",
       "    </tr>\n",
       "  </thead>\n",
       "  <tbody>\n",
       "    <tr>\n",
       "      <th>1</th>\n",
       "      <td>supermi 1 box</td>\n",
       "      <td>10</td>\n",
       "      <td>35000.0</td>\n",
       "      <td>350000.0</td>\n",
       "    </tr>\n",
       "    <tr>\n",
       "      <th>2</th>\n",
       "      <td>sabun</td>\n",
       "      <td>1</td>\n",
       "      <td>17000.0</td>\n",
       "      <td>17000.0</td>\n",
       "    </tr>\n",
       "    <tr>\n",
       "      <th>3</th>\n",
       "      <td>mama lemon</td>\n",
       "      <td>1</td>\n",
       "      <td>18000.0</td>\n",
       "      <td>18000.0</td>\n",
       "    </tr>\n",
       "  </tbody>\n",
       "</table>\n",
       "</div>"
      ],
      "text/plain": [
       "       nama_item  jumlah_item  harga_per_item  total_belanja\n",
       "1  supermi 1 box           10         35000.0       350000.0\n",
       "2          sabun            1         17000.0        17000.0\n",
       "3     mama lemon            1         18000.0        18000.0"
      ]
     },
     "metadata": {},
     "output_type": "display_data"
    }
   ],
   "source": [
    "display(df)"
   ]
  },
  {
   "cell_type": "code",
   "execution_count": null,
   "metadata": {},
   "outputs": [],
   "source": [
    "def update_item_name(nama_item, nama_item_baru):\n",
    "    for i in range(len(df)):\n",
    "        if df['nama_item'][i+1] == nama_item:\n",
    "            df['nama_item'][i+1] = df['nama_item'][i+1].replace(df['nama_item'][i+1], nama_item_baru)\n",
    "\n",
    "    return list_belanjaan\n",
    "#return list_belanjaan, trnsct_123, self_service_cashier()"
   ]
  },
  {
   "cell_type": "code",
   "execution_count": null,
   "metadata": {},
   "outputs": [
    {
     "data": {
      "text/plain": [
       "[['mie', 10, 35000.0], ['sabun', 1, 17000.0], ['sunlight', 1, 18000.0]]"
      ]
     },
     "execution_count": 98,
     "metadata": {},
     "output_type": "execute_result"
    }
   ],
   "source": [
    "list_belanjaan"
   ]
  },
  {
   "cell_type": "code",
   "execution_count": null,
   "metadata": {},
   "outputs": [],
   "source": [
    "def update_item_name():\n",
    "    nama_item = input(\"Masukkan nama produk yg ingin diganti\")\n",
    "    nama_item_baru = input(\"Masukkan nama produk pengganti\")\n",
    "\n",
    "    def update_detail(nama_item, nama_item_baru):\n",
    "        for i in range(len(list_belanjaan)):\n",
    "            nama = list_belanjaan[i][1]\n",
    "            if nama == nama_item:\n",
    "                list_belanjaan[i][1] = list_belanjaan[i][1].replace(nama_item, nama_item_baru)\n",
    "        return list_belanjaan\n",
    "\n",
    "    df = pd.DataFrame(list_belanjaan, columns = ['nama_item', 'jumlah_item', 'harga_per_item'])\n",
    "    df.index = np.arange(1, len(df) + 1)\n",
    "    display(df)\n",
    "\n",
    "    return list_belanjaan"
   ]
  },
  {
   "cell_type": "code",
   "execution_count": null,
   "metadata": {},
   "outputs": [
    {
     "data": {
      "text/html": [
       "<div>\n",
       "<style scoped>\n",
       "    .dataframe tbody tr th:only-of-type {\n",
       "        vertical-align: middle;\n",
       "    }\n",
       "\n",
       "    .dataframe tbody tr th {\n",
       "        vertical-align: top;\n",
       "    }\n",
       "\n",
       "    .dataframe thead th {\n",
       "        text-align: right;\n",
       "    }\n",
       "</style>\n",
       "<table border=\"1\" class=\"dataframe\">\n",
       "  <thead>\n",
       "    <tr style=\"text-align: right;\">\n",
       "      <th></th>\n",
       "      <th>nama_item</th>\n",
       "      <th>jumlah_item</th>\n",
       "      <th>harga_per_item</th>\n",
       "    </tr>\n",
       "  </thead>\n",
       "  <tbody>\n",
       "    <tr>\n",
       "      <th>1</th>\n",
       "      <td>mie</td>\n",
       "      <td>10</td>\n",
       "      <td>35000.0</td>\n",
       "    </tr>\n",
       "    <tr>\n",
       "      <th>2</th>\n",
       "      <td>sabun</td>\n",
       "      <td>1</td>\n",
       "      <td>17000.0</td>\n",
       "    </tr>\n",
       "    <tr>\n",
       "      <th>3</th>\n",
       "      <td>sunlight</td>\n",
       "      <td>1</td>\n",
       "      <td>18000.0</td>\n",
       "    </tr>\n",
       "  </tbody>\n",
       "</table>\n",
       "</div>"
      ],
      "text/plain": [
       "  nama_item  jumlah_item  harga_per_item\n",
       "1       mie           10         35000.0\n",
       "2     sabun            1         17000.0\n",
       "3  sunlight            1         18000.0"
      ]
     },
     "metadata": {},
     "output_type": "display_data"
    },
    {
     "data": {
      "text/plain": [
       "([['mie', 10, 35000.0], ['sabun', 1, 17000.0], ['sunlight', 1, 18000.0]],\n",
       " [['mie', 10, 35000.0], ['sabun', 1, 17000.0], ['sunlight', 1, 18000.0]])"
      ]
     },
     "execution_count": 104,
     "metadata": {},
     "output_type": "execute_result"
    }
   ],
   "source": [
    "update_item_name()"
   ]
  },
  {
   "cell_type": "code",
   "execution_count": null,
   "metadata": {},
   "outputs": [],
   "source": [
    "def update_item_name(nama_item, nama_item_baru):\n",
    "    for i in range(len(list_belanjaan)):\n",
    "        if list_belanjaan[i][1] == nama_item:\n",
    "            list_belanjaan[i][1] = list_belanjaan[i][1].replace(nama_item, nama_item_baru)\n",
    "\n",
    "    return list_belanjaan"
   ]
  },
  {
   "cell_type": "code",
   "execution_count": 50,
   "metadata": {},
   "outputs": [
    {
     "data": {
      "text/plain": [
       "([], UUID('914b40c7-6f33-4969-8c53-712c52d0af5b'))"
      ]
     },
     "execution_count": 50,
     "metadata": {},
     "output_type": "execute_result"
    }
   ],
   "source": [
    "def transaction():\n",
    "  \"Fungsi untuk membuat ID transaksi setiap customer, bersifat unik\"\n",
    "  import uuid\n",
    "  #random_uuid = uuid.uuid4()\n",
    "  list_belanjaan = []\n",
    "  trnsct_123 = uuid.uuid4()\n",
    "  return list_belanjaan, trnsct_123\n",
    "\n",
    "# memanggil fungsi\n",
    "transaction()"
   ]
  },
  {
   "cell_type": "code",
   "execution_count": 48,
   "metadata": {},
   "outputs": [],
   "source": [
    "def update_detail(nama_item, nama_item_baru):\n",
    "    \"Fungsi untuk melakukan perubahan pada nama produk\"\n",
    "    list_belanjaan = [['a','b','c'],['d','e','f']]\n",
    "    for i in range(len(list_belanjaan)):\n",
    "        nama = list_belanjaan[i][1]\n",
    "        if nama == nama_item:\n",
    "            list_belanjaan[i][1] = list_belanjaan[i][1].replace(nama_item, nama_item_baru)\n",
    "    return list_belanjaan"
   ]
  },
  {
   "cell_type": "code",
   "execution_count": 49,
   "metadata": {},
   "outputs": [
    {
     "data": {
      "text/plain": [
       "[['a', 'b', 'c'], ['d', 'e', 'f']]"
      ]
     },
     "execution_count": 49,
     "metadata": {},
     "output_type": "execute_result"
    }
   ],
   "source": [
    "list_belanjaan = [['a','b','c'],['d','e','f']]\n",
    "update_detail('a', 'xxxxx')"
   ]
  },
  {
   "cell_type": "code",
   "execution_count": 45,
   "metadata": {},
   "outputs": [
    {
     "data": {
      "text/plain": [
       "[['a', 1, 15500.0]]"
      ]
     },
     "execution_count": 45,
     "metadata": {},
     "output_type": "execute_result"
    }
   ],
   "source": [
    "list_belanjaan"
   ]
  },
  {
   "cell_type": "code",
   "execution_count": null,
   "metadata": {},
   "outputs": [
    {
     "data": {
      "text/html": [
       "<div>\n",
       "<style scoped>\n",
       "    .dataframe tbody tr th:only-of-type {\n",
       "        vertical-align: middle;\n",
       "    }\n",
       "\n",
       "    .dataframe tbody tr th {\n",
       "        vertical-align: top;\n",
       "    }\n",
       "\n",
       "    .dataframe thead th {\n",
       "        text-align: right;\n",
       "    }\n",
       "</style>\n",
       "<table border=\"1\" class=\"dataframe\">\n",
       "  <thead>\n",
       "    <tr style=\"text-align: right;\">\n",
       "      <th></th>\n",
       "      <th>TotalHarga</th>\n",
       "    </tr>\n",
       "  </thead>\n",
       "  <tbody>\n",
       "    <tr>\n",
       "      <th>0</th>\n",
       "      <td>100000</td>\n",
       "    </tr>\n",
       "    <tr>\n",
       "      <th>1</th>\n",
       "      <td>200000</td>\n",
       "    </tr>\n",
       "    <tr>\n",
       "      <th>2</th>\n",
       "      <td>500000</td>\n",
       "    </tr>\n",
       "    <tr>\n",
       "      <th>3</th>\n",
       "      <td>750000</td>\n",
       "    </tr>\n",
       "  </tbody>\n",
       "</table>\n",
       "</div>"
      ],
      "text/plain": [
       "   TotalHarga\n",
       "0      100000\n",
       "1      200000\n",
       "2      500000\n",
       "3      750000"
      ]
     },
     "execution_count": 112,
     "metadata": {},
     "output_type": "execute_result"
    }
   ],
   "source": [
    "list_a = [100_000, 200_000, 500_000, 750_000]\n",
    "\n",
    "import pandas as pd\n",
    "df = pd.DataFrame(list_a, columns =['TotalHarga'])\n",
    "df"
   ]
  },
  {
   "cell_type": "code",
   "execution_count": 52,
   "metadata": {},
   "outputs": [
    {
     "data": {
      "text/html": [
       "<div>\n",
       "<style scoped>\n",
       "    .dataframe tbody tr th:only-of-type {\n",
       "        vertical-align: middle;\n",
       "    }\n",
       "\n",
       "    .dataframe tbody tr th {\n",
       "        vertical-align: top;\n",
       "    }\n",
       "\n",
       "    .dataframe thead th {\n",
       "        text-align: right;\n",
       "    }\n",
       "</style>\n",
       "<table border=\"1\" class=\"dataframe\">\n",
       "  <thead>\n",
       "    <tr style=\"text-align: right;\">\n",
       "      <th></th>\n",
       "      <th>TotalHarga</th>\n",
       "      <th>Diskon</th>\n",
       "      <th>Harga_Final</th>\n",
       "    </tr>\n",
       "  </thead>\n",
       "  <tbody>\n",
       "    <tr>\n",
       "      <th>0</th>\n",
       "      <td>100000</td>\n",
       "      <td>0.0</td>\n",
       "      <td>100000.0</td>\n",
       "    </tr>\n",
       "    <tr>\n",
       "      <th>1</th>\n",
       "      <td>200000</td>\n",
       "      <td>0.0</td>\n",
       "      <td>200000.0</td>\n",
       "    </tr>\n",
       "    <tr>\n",
       "      <th>2</th>\n",
       "      <td>500000</td>\n",
       "      <td>30000.0</td>\n",
       "      <td>470000.0</td>\n",
       "    </tr>\n",
       "    <tr>\n",
       "      <th>3</th>\n",
       "      <td>750000</td>\n",
       "      <td>52500.0</td>\n",
       "      <td>697500.0</td>\n",
       "    </tr>\n",
       "  </tbody>\n",
       "</table>\n",
       "</div>"
      ],
      "text/plain": [
       "   TotalHarga   Diskon  Harga_Final\n",
       "0      100000      0.0     100000.0\n",
       "1      200000      0.0     200000.0\n",
       "2      500000  30000.0     470000.0\n",
       "3      750000  52500.0     697500.0"
      ]
     },
     "execution_count": 52,
     "metadata": {},
     "output_type": "execute_result"
    }
   ],
   "source": [
    "import pandas as pd\n",
    "list_a = [100_000, 200_000, 500_000, 750_000]\n",
    "\n",
    "disc_200 = 0.05\n",
    "disc_300 = 0.06\n",
    "disc_500 = 0.07\n",
    "list_diskon = []\n",
    "for i in list_a:\n",
    "    if i > 500_000:\n",
    "        i = i * disc_500\n",
    "    elif i > 300_000:\n",
    "        i = i * disc_300\n",
    "    elif i > 200_000:\n",
    "        i = i * disc_200\n",
    "    else:\n",
    "        i = 0\n",
    "    list_diskon.append(i)\n",
    "\n",
    "df = pd.DataFrame(list(zip(list_a, list_diskon)),\n",
    "               columns =['TotalHarga', 'Diskon'])\n",
    "df['Harga_Final'] = df['TotalHarga'] - df['Diskon']\n",
    "df"
   ]
  },
  {
   "cell_type": "code",
   "execution_count": 53,
   "metadata": {},
   "outputs": [
    {
     "data": {
      "text/plain": [
       "[100000, 400000, 500000, 750000]"
      ]
     },
     "execution_count": 53,
     "metadata": {},
     "output_type": "execute_result"
    }
   ],
   "source": [
    "list_a = [[1, 100_000], [2, 200_000], [1, 500_000],[1, 750_000]]\n",
    "list_total_harga = []\n",
    "\n",
    "for i in range(len(list_a)):\n",
    "    total_harga = list_a[i][0] * list_a[i][1]\n",
    "    list_total_harga.append(total_harga)\n",
    "\n",
    "list_total_harga"
   ]
  },
  {
   "cell_type": "code",
   "execution_count": 54,
   "metadata": {},
   "outputs": [
    {
     "data": {
      "text/plain": [
       "[0, 24000.0, 30000.0, 52500.00000000001]"
      ]
     },
     "execution_count": 54,
     "metadata": {},
     "output_type": "execute_result"
    }
   ],
   "source": [
    "DISC_200 = 0.05\n",
    "DISC_300 = 0.06\n",
    "DISC_500 = 0.07\n",
    "\n",
    "list_diskon = []\n",
    "for i in range(len(list_total_harga)):\n",
    "    if list_total_harga[i] > 500_000:\n",
    "        disc = list_total_harga[i] * DISC_500\n",
    "    elif list_total_harga[i] > 300_000:\n",
    "        disc = list_total_harga[i] * DISC_300\n",
    "    elif list_total_harga[i] > 200_000:\n",
    "        disc = list_total_harga[i] * DISC_200\n",
    "    else:\n",
    "        disc = 0\n",
    "    list_diskon.append(disc)\n",
    "\n",
    "list_diskon"
   ]
  },
  {
   "cell_type": "code",
   "execution_count": 55,
   "metadata": {},
   "outputs": [
    {
     "data": {
      "text/html": [
       "<div>\n",
       "<style scoped>\n",
       "    .dataframe tbody tr th:only-of-type {\n",
       "        vertical-align: middle;\n",
       "    }\n",
       "\n",
       "    .dataframe tbody tr th {\n",
       "        vertical-align: top;\n",
       "    }\n",
       "\n",
       "    .dataframe thead th {\n",
       "        text-align: right;\n",
       "    }\n",
       "</style>\n",
       "<table border=\"1\" class=\"dataframe\">\n",
       "  <thead>\n",
       "    <tr style=\"text-align: right;\">\n",
       "      <th></th>\n",
       "      <th>Qty</th>\n",
       "      <th>Harga</th>\n",
       "      <th>TotalHarga</th>\n",
       "      <th>diskon</th>\n",
       "      <th>HargaFinal</th>\n",
       "    </tr>\n",
       "  </thead>\n",
       "  <tbody>\n",
       "    <tr>\n",
       "      <th>0</th>\n",
       "      <td>1</td>\n",
       "      <td>100000</td>\n",
       "      <td>100000</td>\n",
       "      <td>0.0</td>\n",
       "      <td>100000.0</td>\n",
       "    </tr>\n",
       "    <tr>\n",
       "      <th>1</th>\n",
       "      <td>2</td>\n",
       "      <td>200000</td>\n",
       "      <td>400000</td>\n",
       "      <td>24000.0</td>\n",
       "      <td>376000.0</td>\n",
       "    </tr>\n",
       "    <tr>\n",
       "      <th>2</th>\n",
       "      <td>1</td>\n",
       "      <td>500000</td>\n",
       "      <td>500000</td>\n",
       "      <td>30000.0</td>\n",
       "      <td>470000.0</td>\n",
       "    </tr>\n",
       "    <tr>\n",
       "      <th>3</th>\n",
       "      <td>1</td>\n",
       "      <td>750000</td>\n",
       "      <td>750000</td>\n",
       "      <td>52500.0</td>\n",
       "      <td>697500.0</td>\n",
       "    </tr>\n",
       "  </tbody>\n",
       "</table>\n",
       "</div>"
      ],
      "text/plain": [
       "   Qty   Harga  TotalHarga   diskon  HargaFinal\n",
       "0    1  100000      100000      0.0    100000.0\n",
       "1    2  200000      400000  24000.0    376000.0\n",
       "2    1  500000      500000  30000.0    470000.0\n",
       "3    1  750000      750000  52500.0    697500.0"
      ]
     },
     "metadata": {},
     "output_type": "display_data"
    }
   ],
   "source": [
    "df1 = pd.DataFrame(list_a, columns = ['Qty', 'Harga'])\n",
    "df2 = pd.DataFrame(list_total_harga, columns = ['TotalHarga'])\n",
    "df3 = pd.DataFrame(list_diskon, columns = ['diskon'])\n",
    "df = pd.concat([df1, df2, df3], axis = 1)\n",
    "df['HargaFinal'] = df['TotalHarga'] - df['diskon']\n",
    "display(df)"
   ]
  },
  {
   "cell_type": "code",
   "execution_count": 58,
   "metadata": {},
   "outputs": [
    {
     "data": {
      "text/html": [
       "<div>\n",
       "<style scoped>\n",
       "    .dataframe tbody tr th:only-of-type {\n",
       "        vertical-align: middle;\n",
       "    }\n",
       "\n",
       "    .dataframe tbody tr th {\n",
       "        vertical-align: top;\n",
       "    }\n",
       "\n",
       "    .dataframe thead th {\n",
       "        text-align: right;\n",
       "    }\n",
       "</style>\n",
       "<table border=\"1\" class=\"dataframe\">\n",
       "  <thead>\n",
       "    <tr style=\"text-align: right;\">\n",
       "      <th></th>\n",
       "      <th>Qty</th>\n",
       "      <th>Harga</th>\n",
       "      <th>TotalHarga</th>\n",
       "      <th>diskon</th>\n",
       "      <th>HargaFinal</th>\n",
       "      <th>kode_transaksi</th>\n",
       "    </tr>\n",
       "  </thead>\n",
       "  <tbody>\n",
       "    <tr>\n",
       "      <th>0</th>\n",
       "      <td>1</td>\n",
       "      <td>100000</td>\n",
       "      <td>100000</td>\n",
       "      <td>0.0</td>\n",
       "      <td>100000.0</td>\n",
       "      <td>c2e1e7e5-d969-41a7-8e4b-4f6e2127d844</td>\n",
       "    </tr>\n",
       "    <tr>\n",
       "      <th>1</th>\n",
       "      <td>2</td>\n",
       "      <td>200000</td>\n",
       "      <td>400000</td>\n",
       "      <td>24000.0</td>\n",
       "      <td>376000.0</td>\n",
       "      <td>c2e1e7e5-d969-41a7-8e4b-4f6e2127d844</td>\n",
       "    </tr>\n",
       "    <tr>\n",
       "      <th>2</th>\n",
       "      <td>1</td>\n",
       "      <td>500000</td>\n",
       "      <td>500000</td>\n",
       "      <td>30000.0</td>\n",
       "      <td>470000.0</td>\n",
       "      <td>c2e1e7e5-d969-41a7-8e4b-4f6e2127d844</td>\n",
       "    </tr>\n",
       "    <tr>\n",
       "      <th>3</th>\n",
       "      <td>1</td>\n",
       "      <td>750000</td>\n",
       "      <td>750000</td>\n",
       "      <td>52500.0</td>\n",
       "      <td>697500.0</td>\n",
       "      <td>c2e1e7e5-d969-41a7-8e4b-4f6e2127d844</td>\n",
       "    </tr>\n",
       "  </tbody>\n",
       "</table>\n",
       "</div>"
      ],
      "text/plain": [
       "   Qty   Harga  TotalHarga   diskon  HargaFinal  \\\n",
       "0    1  100000      100000      0.0    100000.0   \n",
       "1    2  200000      400000  24000.0    376000.0   \n",
       "2    1  500000      500000  30000.0    470000.0   \n",
       "3    1  750000      750000  52500.0    697500.0   \n",
       "\n",
       "                         kode_transaksi  \n",
       "0  c2e1e7e5-d969-41a7-8e4b-4f6e2127d844  \n",
       "1  c2e1e7e5-d969-41a7-8e4b-4f6e2127d844  \n",
       "2  c2e1e7e5-d969-41a7-8e4b-4f6e2127d844  \n",
       "3  c2e1e7e5-d969-41a7-8e4b-4f6e2127d844  "
      ]
     },
     "metadata": {},
     "output_type": "display_data"
    }
   ],
   "source": [
    "import uuid\n",
    "trnsct_123 = uuid.uuid4()\n",
    "df['kode_transaksi'] = trnsct_123\n",
    "display(df)"
   ]
  },
  {
   "cell_type": "code",
   "execution_count": 65,
   "metadata": {},
   "outputs": [
    {
     "data": {
      "text/plain": [
       "UUID('c2e1e7e5-d969-41a7-8e4b-4f6e2127d844')"
      ]
     },
     "execution_count": 65,
     "metadata": {},
     "output_type": "execute_result"
    }
   ],
   "source": [
    "df['kode_transaksi'].unique()[0]"
   ]
  },
  {
   "cell_type": "code",
   "execution_count": 67,
   "metadata": {},
   "outputs": [
    {
     "data": {
      "text/plain": [
       "UUID('c2e1e7e5-d969-41a7-8e4b-4f6e2127d844')"
      ]
     },
     "execution_count": 67,
     "metadata": {},
     "output_type": "execute_result"
    }
   ],
   "source": [
    "import numpy as np\n",
    "np.unique(df['kode_transaksi'])[0]"
   ]
  },
  {
   "cell_type": "code",
   "execution_count": 57,
   "metadata": {},
   "outputs": [
    {
     "name": "stdout",
     "output_type": "stream",
     "text": [
      "5.77\n"
     ]
    }
   ],
   "source": [
    "x = round(5.76543, 2)\n",
    "print(x)"
   ]
  },
  {
   "cell_type": "code",
   "execution_count": null,
   "metadata": {},
   "outputs": [
    {
     "data": {
      "text/plain": [
       "'  if feature_menu == \"ya\":\\n    #list_belanjaan = []\\n    #list_belanjaan.clear()\\n    #transaction()\\n    #list_belanjaan, trnsct_123 = transaction()\\n    # self_service_cashier()\\n    #print(f\"ID transaksi Anda {trnsct_123}\")\\n    return list_belanjaan, trnsct_123, f\"ID transaksi Anda {trnsct_123}\", self_service_cashier()\\n    #return trnsct_123\\n  else:\\n    pass'"
      ]
     },
     "execution_count": 145,
     "metadata": {},
     "output_type": "execute_result"
    }
   ],
   "source": [
    "def start():\n",
    "  print(\"-\" * 48)\n",
    "  print(\" \",\"*\" * 7,\"SELF-SERVICE CASHIER Register\",\"*\" * 7,\" \")\n",
    "  print(\"-\" * 48)\n",
    "  print(\"\\n\"* 3)\n",
    "\n",
    "  \n",
    "  feature_menu = input(\"Apakah Anda ingin memulai? (ya / tidak) \")\n",
    "  print(\"-\" * 48)\n",
    "\n",
    "\"\"\"  if feature_menu == \"ya\":\n",
    "    #list_belanjaan = []\n",
    "    #list_belanjaan.clear()\n",
    "    #transaction()\n",
    "    #list_belanjaan, trnsct_123 = transaction()\n",
    "    # self_service_cashier()\n",
    "    #print(f\"ID transaksi Anda {trnsct_123}\")\n",
    "    return list_belanjaan, trnsct_123, f\"ID transaksi Anda {trnsct_123}\", self_service_cashier()\n",
    "    #return trnsct_123\n",
    "  else:\n",
    "    pass\"\"\""
   ]
  },
  {
   "cell_type": "code",
   "execution_count": null,
   "metadata": {},
   "outputs": [
    {
     "name": "stdout",
     "output_type": "stream",
     "text": [
      "------------------------------------------------\n",
      "  ******* SELF-SERVICE CASHIER Register *******  \n",
      "------------------------------------------------\n",
      "\n",
      "\n",
      "\n",
      "\n",
      "------------------------------------------------\n"
     ]
    }
   ],
   "source": [
    "start()"
   ]
  },
  {
   "cell_type": "code",
   "execution_count": null,
   "metadata": {},
   "outputs": [
    {
     "name": "stdout",
     "output_type": "stream",
     "text": [
      "['Bob', 'Charlie', 'Bob', 'Dave']\n"
     ]
    }
   ],
   "source": [
    "l = ['Alice', 'Bob', 'Charlie', 'Bob', 'Dave']\n",
    "\n",
    "l.remove('Alice')\n",
    "print(l)\n",
    "# ['Bob', 'Charlie', 'Bob', 'Dave']"
   ]
  },
  {
   "cell_type": "code",
   "execution_count": null,
   "metadata": {},
   "outputs": [
    {
     "ename": "TypeError",
     "evalue": "'NoneType' object is not subscriptable",
     "output_type": "error",
     "traceback": [
      "\u001b[1;31m---------------------------------------------------------------------------\u001b[0m",
      "\u001b[1;31mTypeError\u001b[0m                                 Traceback (most recent call last)",
      "Cell \u001b[1;32mIn[14], line 5\u001b[0m\n\u001b[0;32m      3\u001b[0m delete_item \u001b[39m=\u001b[39m \u001b[39m'\u001b[39m\u001b[39mgama\u001b[39m\u001b[39m'\u001b[39m\n\u001b[0;32m      4\u001b[0m \u001b[39mfor\u001b[39;00m i \u001b[39min\u001b[39;00m \u001b[39mrange\u001b[39m(\u001b[39mlen\u001b[39m(list_a)):\n\u001b[1;32m----> 5\u001b[0m     \u001b[39mif\u001b[39;00m list_a[i][\u001b[39m0\u001b[39m] \u001b[39m==\u001b[39m \u001b[39m'\u001b[39m\u001b[39mgama\u001b[39m\u001b[39m'\u001b[39m:\n\u001b[0;32m      6\u001b[0m         list_a \u001b[39m=\u001b[39m list_a\u001b[39m.\u001b[39mremove(list_a[i])\n\u001b[0;32m      7\u001b[0m \u001b[39mprint\u001b[39m(list_a)\n",
      "\u001b[1;31mTypeError\u001b[0m: 'NoneType' object is not subscriptable"
     ]
    }
   ],
   "source": [
    "list_a = [['alpha', 1, 100_000], ['beta', 2, 200_000], ['gama', 1, 500_000],['omega', 1, 750_000]]\n",
    "\n",
    "delete_item = 'gama'\n",
    "for i in range(len(list_a)):\n",
    "    if list_a[i][0] == delete_item:\n",
    "        list_a = list_a.remove(list_a[i])\n",
    "print(list_a)"
   ]
  },
  {
   "cell_type": "code",
   "execution_count": null,
   "metadata": {},
   "outputs": [
    {
     "data": {
      "text/plain": [
       "[['beta', 2, 200000], ['gama', 1, 500000], ['omega', 1, 750000]]"
      ]
     },
     "execution_count": 12,
     "metadata": {},
     "output_type": "execute_result"
    }
   ],
   "source": [
    "list_a = [['alpha', 1, 100_000], ['beta', 2, 200_000], ['gama', 1, 500_000],['omega', 1, 750_000]]\n",
    "list_a.remove(list_a[0])\n",
    "list_a"
   ]
  },
  {
   "cell_type": "code",
   "execution_count": null,
   "metadata": {},
   "outputs": [
    {
     "name": "stdout",
     "output_type": "stream",
     "text": [
      "[['alpha', 1, 100000], ['beta', 2, 200000], ['gama', 1, 500000], ['omega', 1, 1000000]]\n"
     ]
    }
   ],
   "source": [
    "list_a = [['alpha', 1, 100_000], ['beta', 2, 200_000], ['gama', 1, 500_000],['omega', 1, 750_000]]        \n",
    "nama_item = 'omega'\n",
    "update_harga_per_item = 1_000_000\n",
    "for i in range(len(list_a)):\n",
    "    if nama_item == list_a[i][0]:\n",
    "        list_a[i][2] = update_harga_per_item\n",
    "\n",
    "print(list_a)"
   ]
  },
  {
   "cell_type": "code",
   "execution_count": null,
   "metadata": {},
   "outputs": [
    {
     "data": {
      "text/plain": [
       "'gama'"
      ]
     },
     "execution_count": 19,
     "metadata": {},
     "output_type": "execute_result"
    }
   ],
   "source": [
    "list_a[2][0]"
   ]
  },
  {
   "cell_type": "code",
   "execution_count": null,
   "metadata": {},
   "outputs": [
    {
     "name": "stdout",
     "output_type": "stream",
     "text": [
      "[['alpha', 1, 100000], ['beta', 2, 200000], ['omega', 1, 750000]]\n"
     ]
    }
   ],
   "source": [
    "list_a = [['alpha', 1, 100_000], ['beta', 2, 200_000], ['gama', 1, 500_000],['omega', 1, 750_000]]        \n",
    "#nama_item = 'omega'\n",
    "delete_item = 'gama'\n",
    "for i in range(len(list_a)):\n",
    "    #print(i, list_a[i][0])\n",
    "    if delete_item == list_a[i][0]:\n",
    "        list_a.remove(list_a[i])\n",
    "        \n",
    "        print(list_a)\n",
    "        break\n",
    "        \n",
    "\n",
    "\n",
    "#print(list_a)"
   ]
  },
  {
   "cell_type": "code",
   "execution_count": 18,
   "metadata": {},
   "outputs": [],
   "source": [
    "def save_customer(id_customer: int, nama: str, alamat: str, kota: str, kode_pos: str, telepon: str):\n",
    "    import sqlite3 \n",
    "    con = sqlite3.connect(\"coba.db\")\n",
    "    cur = con.cursor()\n",
    "\n",
    "    # simpan ke database\n",
    "    cur.execute(f'INSERT INTO customer_coba VALUES (\"{id_customer}\", \"{nama}\", \"{alamat}\", \"{kota}\", \"{kode_pos}\", \"{telepon}\")')\n",
    "    \n",
    "    con.commit()\n",
    "    #con.close()"
   ]
  },
  {
   "cell_type": "code",
   "execution_count": 19,
   "metadata": {},
   "outputs": [
    {
     "ename": "TypeError",
     "evalue": "save_customer() missing 1 required positional argument: 'telepon'",
     "output_type": "error",
     "traceback": [
      "\u001b[1;31m---------------------------------------------------------------------------\u001b[0m",
      "\u001b[1;31mTypeError\u001b[0m                                 Traceback (most recent call last)",
      "\u001b[1;32md:\\DESSY\\DATA ENGINEERING\\====Latihan 1-PYTHON\\function5\\trial.ipynb Cell 38\u001b[0m line \u001b[0;36m2\n\u001b[0;32m     <a href='vscode-notebook-cell:/d%3A/DESSY/DATA%20ENGINEERING/%3D%3D%3D%3DLatihan%201-PYTHON/function5/trial.ipynb#X51sZmlsZQ%3D%3D?line=16'>17</a>\u001b[0m kode_pos \u001b[39m=\u001b[39m \u001b[39minput\u001b[39m(\u001b[39m\"\u001b[39m\u001b[39mKode pos : \u001b[39m\u001b[39m\"\u001b[39m)\n\u001b[0;32m     <a href='vscode-notebook-cell:/d%3A/DESSY/DATA%20ENGINEERING/%3D%3D%3D%3DLatihan%201-PYTHON/function5/trial.ipynb#X51sZmlsZQ%3D%3D?line=17'>18</a>\u001b[0m telepon \u001b[39m=\u001b[39m \u001b[39minput\u001b[39m(\u001b[39m\"\u001b[39m\u001b[39mNo telepon : \u001b[39m\u001b[39m\"\u001b[39m)\n\u001b[1;32m---> <a href='vscode-notebook-cell:/d%3A/DESSY/DATA%20ENGINEERING/%3D%3D%3D%3DLatihan%201-PYTHON/function5/trial.ipynb#X51sZmlsZQ%3D%3D?line=19'>20</a>\u001b[0m save_customer(nama, alamat, kota, kode_pos, telepon)\n",
      "\u001b[1;31mTypeError\u001b[0m: save_customer() missing 1 required positional argument: 'telepon'"
     ]
    }
   ],
   "source": [
    "# masukkan dalam database menggunakan sqlite3\n",
    "import sqlite3 \n",
    "con = sqlite3.connect(\"coba.db\")\n",
    "cur = con.cursor()\n",
    "\n",
    "cur.execute(\"\"\"CREATE TABLE IF NOT EXISTS customer_coba(\n",
    "            id_customer INTEGER AUTO_INCREMENT PRIMARY KEY,\n",
    "            nama TEXT, \n",
    "            alamat TEXT, \n",
    "            kota TEXT,\n",
    "            kode_pos TEXT,\n",
    "            telepon TEXT)\"\"\")\n",
    "\n",
    "nama = input(\"Nama customer : \")\n",
    "alamat = input(\"Alamat customer : \")\n",
    "kota = input(\"Kota / Kabupaten : \")\n",
    "kode_pos = input(\"Kode pos : \")\n",
    "telepon = input(\"No telepon : \")\n",
    "\n",
    "save_customer(nama, alamat, kota, kode_pos, telepon)\n"
   ]
  },
  {
   "cell_type": "code",
   "execution_count": 21,
   "metadata": {},
   "outputs": [
    {
     "name": "stdout",
     "output_type": "stream",
     "text": [
      "(1, 'Michael', 'Fox')\n",
      "(2, 'Adam', 'Miller')\n",
      "(3, 'Andrew', 'Peck')\n",
      "(4, 'James', 'Shroyer')\n",
      "(5, 'Eric', 'Burger')\n"
     ]
    }
   ],
   "source": [
    "import sqlite3\n",
    "data_person_name = [('Michael', 'Fox'),\n",
    "                    ('Adam', 'Miller'),\n",
    "                    ('Andrew', 'Peck'),\n",
    "                    ('James', 'Shroyer'),\n",
    "                    ('Eric', 'Burger')]\n",
    "\n",
    "con = sqlite3.connect(\"coba.db\")\n",
    "\n",
    "with con:\n",
    "\n",
    "    c = con.cursor()\n",
    "\n",
    "    c.execute('''CREATE TABLE q1_person_name\n",
    "                (name_id INTEGER PRIMARY KEY,\n",
    "                first_name varchar(20) NOT NULL,\n",
    "                last_name varchar(20) NOT NULL)''')\n",
    "    c.executemany('INSERT INTO q1_person_name(first_name, last_name) VALUES (?,?)', data_person_name)\n",
    "\n",
    "    for row in c.execute('SELECT * FROM q1_person_name'):\n",
    "        print(row)\n",
    "        "
   ]
  },
  {
   "cell_type": "code",
   "execution_count": 31,
   "metadata": {},
   "outputs": [
    {
     "name": "stdout",
     "output_type": "stream",
     "text": [
      "  product_name  price\n",
      "1     Computer    900\n",
      "2       Tablet    300\n",
      "3      Monitor    450\n",
      "4      Printer    150\n"
     ]
    }
   ],
   "source": [
    "import pandas as pd\n",
    "import numpy as np\n",
    "\n",
    "data = {'product_name': ['Computer','Tablet','Monitor','Printer'],\n",
    "        'price': [900,300,450,150]\n",
    "        }\n",
    "\n",
    "df = pd.DataFrame(data, columns= ['product_name','price'])\n",
    "df.index = np.arange(1, len(df) + 1)\n",
    "print (df)\n"
   ]
  },
  {
   "cell_type": "code",
   "execution_count": 32,
   "metadata": {},
   "outputs": [
    {
     "data": {
      "text/plain": [
       "4"
      ]
     },
     "execution_count": 32,
     "metadata": {},
     "output_type": "execute_result"
    }
   ],
   "source": [
    "import sqlite3\n",
    "\n",
    "# masukkan dalam database menggunakan sqlite3\n",
    "con = sqlite3.connect(\"coba.db\")\n",
    "cur = con.cursor()\n",
    "\n",
    "# sql table = tabel transaction\n",
    "cur.execute(\"\"\"CREATE TABLE IF NOT EXISTS products(\n",
    "            product_name TEXT NOT NULL, \n",
    "            price REAL NOT NULL\n",
    "            )\"\"\")\n",
    "\n",
    "# melakukan export dataframe transaksi ke bentuk sql\n",
    "df.to_sql('products', con, if_exists = 'replace', method = None) # if exists = 'append' kalo sdh ok\n"
   ]
  }
 ],
 "metadata": {
  "kernelspec": {
   "display_name": "Python 3",
   "language": "python",
   "name": "python3"
  },
  "language_info": {
   "codemirror_mode": {
    "name": "ipython",
    "version": 3
   },
   "file_extension": ".py",
   "mimetype": "text/x-python",
   "name": "python",
   "nbconvert_exporter": "python",
   "pygments_lexer": "ipython3",
   "version": "3.11.5"
  },
  "orig_nbformat": 4
 },
 "nbformat": 4,
 "nbformat_minor": 2
}
